{
  "nbformat": 4,
  "nbformat_minor": 0,
  "metadata": {
    "colab": {
      "provenance": [],
      "toc_visible": true
    },
    "kernelspec": {
      "name": "python3",
      "display_name": "Python 3"
    },
    "language_info": {
      "name": "python"
    }
  },
  "cells": [
    {
      "cell_type": "markdown",
      "source": [
        "# Pollard Rho"
      ],
      "metadata": {
        "id": "kTppD4VPcWiK"
      }
    },
    {
      "cell_type": "code",
      "source": [
        "import time\n",
        "import matplotlib.pyplot as plt\n",
        "import random\n",
        "import sympy\n",
        "import pprint\n",
        "import numpy as np"
      ],
      "metadata": {
        "id": "9xb0yHtidDIG"
      },
      "execution_count": 1,
      "outputs": []
    },
    {
      "cell_type": "code",
      "source": [
        "\n",
        "\n",
        "def gcd(a, b):\n",
        "    if b == 0:\n",
        "        return a  # Base case: GCD is the remaining non-zero number\n",
        "    else:\n",
        "        return gcd(b, a % b)"
      ],
      "metadata": {
        "id": "MBmJTk-I07iI"
      },
      "execution_count": 2,
      "outputs": []
    },
    {
      "cell_type": "code",
      "execution_count": 3,
      "metadata": {
        "id": "UeDgebAHwYsU"
      },
      "outputs": [],
      "source": [
        "\n",
        "def pollard_rho(n):\n",
        "    if n % 2 == 0:\n",
        "        return 2\n",
        "\n",
        "    x = 2  # Starting value\n",
        "    y = 2  # Second starting value\n",
        "    d = 1  # Placeholder for potential factor\n",
        "\n",
        "    while d == 1:\n",
        "        x = pow(x, 2, n) + 1  # Modified function for better cycle detection\n",
        "        y = pow(y, 2, n) + 1\n",
        "        y = pow(y, 2, n) + 1\n",
        "        d = gcd(abs(x - y), n)\n",
        "\n",
        "    if d == n:\n",
        "        return None  # No non-trivial factor found\n",
        "    else:\n",
        "        return d\n",
        "\n",
        "# Example usage\n"
      ]
    },
    {
      "cell_type": "code",
      "source": [
        "number_to_factor = 104034233\n",
        "factor = pollard_rho(number_to_factor)\n",
        "if factor:\n",
        "    print(\"Factor found:\", factor)\n",
        "else:\n",
        "    print(\"No factor found within a reasonable time.\")\n"
      ],
      "metadata": {
        "colab": {
          "base_uri": "https://localhost:8080/"
        },
        "id": "Kv9-FFhKwi9D",
        "outputId": "4b6f97e2-f50e-4a46-8815-74175489c593"
      },
      "execution_count": 4,
      "outputs": [
        {
          "output_type": "stream",
          "name": "stdout",
          "text": [
            "Factor found: 31\n"
          ]
        }
      ]
    },
    {
      "cell_type": "code",
      "source": [
        "number_to_factor/31"
      ],
      "metadata": {
        "colab": {
          "base_uri": "https://localhost:8080/"
        },
        "id": "OrZozsPTwnyn",
        "outputId": "0344f1cb-a3a9-4d4b-dbdc-a9ad76d599e1"
      },
      "execution_count": 5,
      "outputs": [
        {
          "output_type": "execute_result",
          "data": {
            "text/plain": [
              "3355943.0"
            ]
          },
          "metadata": {},
          "execution_count": 5
        }
      ]
    },
    {
      "cell_type": "code",
      "source": [],
      "metadata": {
        "id": "Wbh0XrVpwuQD"
      },
      "execution_count": 5,
      "outputs": []
    },
    {
      "cell_type": "markdown",
      "source": [
        "# Pollard Rho compare"
      ],
      "metadata": {
        "id": "q2zQC4C5cefT"
      }
    },
    {
      "cell_type": "markdown",
      "source": [
        "## Utils"
      ],
      "metadata": {
        "id": "mi5dTWKicpM4"
      }
    },
    {
      "cell_type": "code",
      "source": [
        "def trial_division(n):\n",
        "    factors = []\n",
        "    divisor = 2\n",
        "    while n > 1:\n",
        "        while n % divisor == 0:\n",
        "            factors.append(divisor)\n",
        "            n //= divisor\n",
        "        divisor += 1\n",
        "    return factors\n",
        "\n",
        "\n",
        "def ecm_factorization(n, B=20, max_steps=1000):\n",
        "    x = 2\n",
        "    y = 2\n",
        "    d = 1\n",
        "    steps = 0\n",
        "\n",
        "    while d == 1 and steps < max_steps:\n",
        "        x = (x**2 + 1) % n\n",
        "        y = ((y**2 + 1)**2 + 1) % n\n",
        "        d = gcd(abs(x - y), n)\n",
        "        steps += 1\n",
        "\n",
        "    if d == n:\n",
        "        return None  # ECM failed\n",
        "    return d"
      ],
      "metadata": {
        "id": "oPSJepu8chIq"
      },
      "execution_count": 6,
      "outputs": []
    },
    {
      "cell_type": "code",
      "source": [
        "def trial_division_time(n):\n",
        "    start_time = time.time()\n",
        "    factors = trial_division(n)\n",
        "    end_time = time.time()\n",
        "    return factors, end_time - start_time\n",
        "\n",
        "def pollards_rho_time(n):\n",
        "    start_time = time.time()\n",
        "    factor = pollard_rho(n)\n",
        "    end_time = time.time()\n",
        "    return factor, end_time - start_time\n",
        "\n",
        "def ecm_factorization_time(n):\n",
        "    start_time = time.time()\n",
        "    factor = ecm_factorization(n)\n",
        "    end_time = time.time()\n",
        "    return factor, end_time - start_time\n",
        "\n",
        "n = 894217005052099  # Replace with the number you want to factorize\n",
        "\n",
        "# Trial Division\n",
        "trial_div_factors, trial_div_time = trial_division(n)\n",
        "print(f\"Trial Division Factors: {trial_div_factors}\")\n",
        "print(f\"Time taken by Trial Division: {trial_div_time:.6f} seconds\\n\")\n",
        "\n",
        "# Pollard's Rho\n",
        "rho_factor, rho_time = pollards_rho_time(n)\n",
        "print(f\"Pollard's Rho Factor: {rho_factor}\")\n",
        "print(f\"Time taken by Pollard's Rho: {rho_time:.6f} seconds\\n\")\n",
        "\n",
        "# ECM\n",
        "ecm_factor, ecm_time = ecm_factorization_time(n)\n",
        "print(f\"ECM Factor: {ecm_factor}\")\n",
        "print(f\"Time taken by ECM: {ecm_time:.6f} seconds\\n\")\n"
      ],
      "metadata": {
        "colab": {
          "base_uri": "https://localhost:8080/"
        },
        "id": "VTjpCu1xcyEb",
        "outputId": "3281949d-6675-4bdb-ab6a-01ce0340789c"
      },
      "execution_count": 7,
      "outputs": [
        {
          "output_type": "stream",
          "name": "stdout",
          "text": [
            "Trial Division Factors: 27645377\n",
            "Time taken by Trial Division: 32345987.000000 seconds\n",
            "\n",
            "Pollard's Rho Factor: 32345987\n",
            "Time taken by Pollard's Rho: 0.017394 seconds\n",
            "\n",
            "ECM Factor: 1\n",
            "Time taken by ECM: 0.007479 seconds\n",
            "\n"
          ]
        }
      ]
    },
    {
      "cell_type": "code",
      "source": [
        "def generate_semiprime(bits):\n",
        "    # Generate two random prime numbers\n",
        "    p = random_prime(bits)\n",
        "    q = random_prime(bits)\n",
        "\n",
        "    # Calculate the semiprime\n",
        "    n = p * q\n",
        "\n",
        "    return n, p, q\n",
        "\n",
        "def random_prime(bits):\n",
        "    # Generate a random odd number with the specified number of bits\n",
        "    num = random.getrandbits(bits)\n",
        "    num |= (1 << bits - 1) | 1\n",
        "\n",
        "    # Keep generating odd numbers until a prime is found\n",
        "    while not sympy.isprime(num):\n",
        "        num += 2\n",
        "\n",
        "    return num\n",
        "\n",
        "\n",
        "bits = 15  # Adjust the number of bits as needed\n",
        "semiprime, p, q = generate_semiprime(bits)\n",
        "composite = []\n",
        "trial_div_times = np.array(np.zeros(bits))\n",
        "pollard_rho_times = np.array(np.zeros(bits))\n",
        "ecm_times = np.array(np.zeros(bits))\n",
        "\n",
        "\n",
        "ecm_times_in = np.array(np.zeros(bits))\n",
        "pollard_rho_times_in = np.array(np.zeros(bits))\n",
        "trial_div_times_in = np.array(np.zeros(bits))\n",
        "\n",
        "for itter in range(5):\n",
        "  pollard_rho_times = np.sum([pollard_rho_times_in, pollard_rho_times ],axis=0)\n",
        "  ecm_times = np.sum([ecm_times_in , ecm_times], axis=0)\n",
        "  trial_div_times = np.sum([trial_div_times_in , trial_div_times], axis=0)\n",
        "\n",
        "  ecm_times_in = np.array([])\n",
        "  pollard_rho_times_in = np.array([])\n",
        "  trial_div_times_in = np.array([])\n",
        "  composite = []\n",
        "  for i in range(bits):\n",
        "      semiprime, p, q = generate_semiprime(i+3)\n",
        "      composite.append(semiprime)\n",
        "\n",
        "      # trial_div_factors, trial_div_time = trial_division_time(semiprime)\n",
        "      # trial_div_times = np.append(trial_div_times, [trial_div_time])\n",
        "\n",
        "\n",
        "      rho_factor, rho_time = pollards_rho_time(semiprime)\n",
        "      pollard_rho_times_in = np.append(pollard_rho_times_in, [rho_time], axis=0)\n",
        "\n",
        "      ecm_factor, ecm_time = ecm_factorization_time(semiprime)\n",
        "      ecm_times_in = np.append(ecm_times_in,[ecm_time],  axis=0)\n",
        "      if(i<15):\n",
        "        trial_div_factors, trial_div_time = trial_division_time(semiprime)\n",
        "        trial_div_times_in = np.append(trial_div_times_in, [trial_div_time], axis=0)\n",
        "      else:\n",
        "        trial_div_times_in = np.append(trial_div_times_in, [ecm_time], axis=0)\n",
        "  print(itter)\n",
        "pollard_rho_times = pollard_rho_times/5\n",
        "ecm_times = ecm_times/5\n",
        "trial_div_times = trial_div_times/5"
      ],
      "metadata": {
        "colab": {
          "base_uri": "https://localhost:8080/"
        },
        "id": "RVVNtCWkdOKx",
        "outputId": "db86a4e2-b188-494f-944a-3e4267136ed3"
      },
      "execution_count": 66,
      "outputs": [
        {
          "output_type": "stream",
          "name": "stdout",
          "text": [
            "0\n",
            "1\n",
            "2\n",
            "3\n",
            "4\n"
          ]
        }
      ]
    },
    {
      "cell_type": "code",
      "source": [
        "print(ecm_times)\n",
        "print(pollard_rho_times)\n",
        "print(pollard_rho_times)\n",
        "print(trial_div_times)\n",
        "print(composite)"
      ],
      "metadata": {
        "colab": {
          "base_uri": "https://localhost:8080/"
        },
        "id": "KMCQXAUSifbR",
        "outputId": "7312ffc3-3130-48fc-a6d0-964ba67eecba"
      },
      "execution_count": 60,
      "outputs": [
        {
          "output_type": "stream",
          "name": "stdout",
          "text": [
            "[6.05583191e-06 5.96046448e-06 1.23023987e-05 1.81198120e-05\n",
            " 2.25543976e-05 2.96115875e-05 5.11169434e-05 6.64234161e-05\n",
            " 9.44137573e-05 1.39427185e-04 2.89487839e-04 4.81748581e-04\n",
            " 5.09643555e-04 7.77292252e-04 1.14603043e-03 1.77369118e-03\n",
            " 2.32324600e-03 5.76052666e-03 6.36477470e-03 6.56237602e-03\n",
            " 6.53939247e-03 7.43212700e-03 8.03470612e-03 7.78002739e-03\n",
            " 8.21509361e-03 8.50963593e-03 8.97502899e-03 1.07285976e-02\n",
            " 9.68446732e-03]\n",
            "[1.14917755e-05 1.00135803e-05 1.85966492e-05 2.87532806e-05\n",
            " 3.91006470e-05 4.07218933e-05 8.40663910e-05 9.12666321e-05\n",
            " 1.35612488e-04 1.82199478e-04 3.86619568e-04 6.36482239e-04\n",
            " 6.53696060e-04 9.97018814e-04 1.48763657e-03 2.19068527e-03\n",
            " 2.98271179e-03 8.87579918e-03 9.00473595e-03 9.91172791e-03\n",
            " 1.58287048e-02 1.54810429e-02 3.38314056e-02 5.05297184e-02\n",
            " 7.08880901e-02 1.09364796e-01 2.34148216e-01 1.70131207e-01\n",
            " 2.92494345e-01]\n",
            "[1.14917755e-05 1.00135803e-05 1.85966492e-05 2.87532806e-05\n",
            " 3.91006470e-05 4.07218933e-05 8.40663910e-05 9.12666321e-05\n",
            " 1.35612488e-04 1.82199478e-04 3.86619568e-04 6.36482239e-04\n",
            " 6.53696060e-04 9.97018814e-04 1.48763657e-03 2.19068527e-03\n",
            " 2.98271179e-03 8.87579918e-03 9.00473595e-03 9.91172791e-03\n",
            " 1.58287048e-02 1.54810429e-02 3.38314056e-02 5.05297184e-02\n",
            " 7.08880901e-02 1.09364796e-01 2.34148216e-01 1.70131207e-01\n",
            " 2.92494345e-01]\n",
            "[5.00679016e-06 2.57492065e-06 4.05311584e-06 7.67707825e-06\n",
            " 1.43527985e-05 3.19957733e-05 5.35011292e-05 1.21259689e-04\n",
            " 2.29787827e-04 4.71544266e-04 1.13158226e-03 2.01392174e-03\n",
            " 3.57723236e-03 1.15617275e-02 2.14814186e-02 4.34059143e-02\n",
            " 1.02033758e-01 5.76052666e-03 6.36477470e-03 6.56237602e-03\n",
            " 6.53939247e-03 7.43212700e-03 8.03470612e-03 7.78002739e-03\n",
            " 8.21509361e-03 8.50963593e-03 8.97502899e-03 1.07285976e-02\n",
            " 9.68446732e-03]\n",
            "[25, 121, 361, 1763, 7081, 59989, 168163, 667397, 2288791, 8220437, 35881387, 120053413, 698162761, 1607828863, 8936401913, 31379316131, 201346843861, 641317873303, 3596330198971, 12037022902141, 46174916011879, 252203746192513, 613730925089621, 3061753838613157, 10157516060295707, 43889170485720899, 203907826470175229, 955260002666722283, 1391272841775828871]\n"
          ]
        }
      ]
    },
    {
      "cell_type": "code",
      "source": [
        "# plt.plot(composite, trial_div_times, label='Trial Division')\n",
        "plt.plot(composite, pollard_rho_times, label=\"Pollard's Rho\")\n",
        "plt.plot(composite, trial_div_times, label='Trial Divsion')\n",
        "# plt.plot(composite, ecm_times, label='ECM')\n",
        "\n",
        "plt.xlabel('Composite Numbers')\n",
        "plt.ylabel('Time (seconds)')\n",
        "plt.title('Factorization Time Comparison')\n",
        "plt.legend()\n",
        "plt.show()"
      ],
      "metadata": {
        "colab": {
          "base_uri": "https://localhost:8080/",
          "height": 472
        },
        "id": "-81Q0eC3eEMm",
        "outputId": "3b2b59d3-6309-4248-8ef5-cea68d1e23a7"
      },
      "execution_count": 67,
      "outputs": [
        {
          "output_type": "display_data",
          "data": {
            "text/plain": [
              "<Figure size 640x480 with 1 Axes>"
            ],
            "image/png": "[encoded data removed]"
          },
          "metadata": {}
        }
      ]
    },
    {
      "cell_type": "code",
      "source": [
        "# plt.plot(composite, trial_div_times, label='Trial Division')\n",
        "plt.plot(composite, pollard_rho_times, label=\"Pollard's Rho\")\n",
        "plt.plot(composite, trial_div_times, label='Trial Divsion')\n",
        "plt.plot(composite, ecm_times, label='ECM')\n",
        "\n",
        "plt.xlabel('Composite Numbers')\n",
        "plt.ylabel('Time (seconds)')\n",
        "plt.title('Factorization Time Comparison')\n",
        "plt.legend()\n",
        "plt.show()"
      ],
      "metadata": {
        "colab": {
          "base_uri": "https://localhost:8080/",
          "height": 472
        },
        "id": "6ENe9C2_f9ur",
        "outputId": "f3b30bae-a72b-430e-83a5-193d881cc016"
      },
      "execution_count": 68,
      "outputs": [
        {
          "output_type": "display_data",
          "data": {
            "text/plain": [
              "<Figure size 640x480 with 1 Axes>"
            ],
            "image/png": "[encoded data removed]"
          },
          "metadata": {}
        }
      ]
    }
  ]
}