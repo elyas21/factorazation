{
  "nbformat": 4,
  "nbformat_minor": 0,
  "metadata": {
    "colab": {
      "provenance": []
    },
    "kernelspec": {
      "name": "python3",
      "display_name": "Python 3"
    },
    "language_info": {
      "name": "python"
    }
  },
  "cells": [
    {
      "cell_type": "code",
      "execution_count": 1,
      "metadata": {
        "colab": {
          "base_uri": "https://localhost:8080/"
        },
        "id": "NZ4-T8WZ2dE0",
        "outputId": "1d896e82-17d7-482a-a821-61e4f2714abb"
      },
      "outputs": [
        {
          "output_type": "stream",
          "name": "stdout",
          "text": [
            "Probability of at least two people sharing a birthday with 23 people: 0.51\n"
          ]
        }
      ],
      "source": [
        "import random\n",
        "\n",
        "def has_matching_birthdays(num_people):\n",
        "\n",
        "\n",
        "\n",
        "    birthdays = []\n",
        "    for _ in range(num_people):\n",
        "        birthday = random.randint(1, 365)  # Generate a random birthday\n",
        "        if birthday in birthdays:\n",
        "            return True  # Match found!\n",
        "        birthdays.append(birthday)\n",
        "    return False  # No matches found\n",
        "\n",
        "def simulate_birthday_paradox(num_trials, num_people):\n",
        "\n",
        "    num_matches = 0\n",
        "    for _ in range(num_trials):\n",
        "        if has_matching_birthdays(num_people):\n",
        "            num_matches += 1\n",
        "    return num_matches / num_trials\n",
        "\n",
        "# Example usage:\n",
        "num_trials = 10000\n",
        "num_people = 23\n",
        "probability = simulate_birthday_paradox(num_trials, num_people)\n",
        "print(f\"Probability of at least two people sharing a birthday with {num_people} people: {probability:.2f}\")\n"
      ]
    },
    {
      "cell_type": "code",
      "source": [],
      "metadata": {
        "id": "DXNKOxPpJqWd"
      },
      "execution_count": null,
      "outputs": []
    }
  ]
}